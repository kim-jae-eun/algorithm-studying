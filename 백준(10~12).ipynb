{
 "cells": [
  {
   "cell_type": "code",
   "execution_count": 6,
   "metadata": {},
   "outputs": [
    {
     "name": "stdin",
     "output_type": "stream",
     "text": [
      " 10\n"
     ]
    },
    {
     "name": "stdout",
     "output_type": "stream",
     "text": [
      "3628800\n"
     ]
    }
   ],
   "source": [
    "# 10872\n",
    "def factorial(x):\n",
    "    n = 1\n",
    "    for i in range(x):\n",
    "        n *= (i+1)\n",
    "    return n\n",
    "N = int(input())\n",
    "print(factorial(N))"
   ]
  },
  {
   "cell_type": "code",
   "execution_count": 31,
   "metadata": {},
   "outputs": [
    {
     "name": "stdin",
     "output_type": "stream",
     "text": [
      " 2\n"
     ]
    },
    {
     "name": "stdout",
     "output_type": "stream",
     "text": [
      "1\n"
     ]
    }
   ],
   "source": [
    "# 10870\n",
    "n1, n2 = 0, 1\n",
    "n = int(input())\n",
    "if n == 0:\n",
    "    print(n1)\n",
    "elif n == 1:\n",
    "    print(n2)\n",
    "else:\n",
    "    for _ in range(1, n):\n",
    "        num = n1 + n2\n",
    "        n1 = n2\n",
    "        n2 = num\n",
    "    print(num)"
   ]
  },
  {
   "cell_type": "code",
   "execution_count": 101,
   "metadata": {},
   "outputs": [
    {
     "name": "stdin",
     "output_type": "stream",
     "text": [
      " 27\n"
     ]
    },
    {
     "name": "stdout",
     "output_type": "stream",
     "text": [
      "***************************\n",
      "* ** ** ** ** ** ** ** ** *\n",
      "***************************\n",
      "***   ******   ******   ***\n",
      "* *   * ** *   * ** *   * *\n",
      "***   ******   ******   ***\n",
      "***************************\n",
      "* ** ** ** ** ** ** ** ** *\n",
      "***************************\n",
      "*********         *********\n",
      "* ** ** *         * ** ** *\n",
      "*********         *********\n",
      "***   ***         ***   ***\n",
      "* *   * *         * *   * *\n",
      "***   ***         ***   ***\n",
      "*********         *********\n",
      "* ** ** *         * ** ** *\n",
      "*********         *********\n",
      "***************************\n",
      "* ** ** ** ** ** ** ** ** *\n",
      "***************************\n",
      "***   ******   ******   ***\n",
      "* *   * ** *   * ** *   * *\n",
      "***   ******   ******   ***\n",
      "***************************\n",
      "* ** ** ** ** ** ** ** ** *\n",
      "***************************\n"
     ]
    }
   ],
   "source": [
    "# 2447\n",
    "import math\n",
    "N = int(input())\n",
    "k = int(math.log10(N)/math.log10(3)) # math.log(243, 3) 이 5가 아니라 4.999로 출력되는 오류가 있어서 고침\n",
    "a = '*'\n",
    "for i in range(1, k+1):\n",
    "    starlist = []\n",
    "    prev_list = a.split('\\n')\n",
    "    n = 3 ** i\n",
    "    for j in range(n):\n",
    "        if j//(n/3) == 1:\n",
    "            starlist.append(prev_list[int(j%(n/3))]\n",
    "                            + ' '*int(n/3)\n",
    "                            + prev_list[int(j%(n/3))])\n",
    "        else:\n",
    "            starlist.append(prev_list[int(j%(n/3))]*3)\n",
    "    a = '\\n'.join(starlist)\n",
    "print(a)"
   ]
  },
  {
   "cell_type": "code",
   "execution_count": null,
   "metadata": {},
   "outputs": [],
   "source": [
    "# 2447 - 다른 답안 (https://study-all-night.tistory.com/5)\n",
    "# 별 찍는 재귀 함수\n",
    "def draw_star(n) :\n",
    "    global Map\n",
    "    \n",
    "    if n == 3 :\n",
    "        Map[0][:3] = Map[2][:3] = [1]*3\n",
    "        Map[1][:3] = [1, 0, 1]\n",
    "        return\n",
    "\n",
    "    a = n//3\n",
    "    draw_star(n//3)\n",
    "    for i in range(3) :\n",
    "        for j in range(3) :\n",
    "            if i == 1 and j == 1 :\n",
    "                continue\n",
    "            for k in range(a) :\n",
    "                Map[a*i+k][a*j:a*(j+1)] = Map[k][:a] # 핵심 아이디어\n",
    "\n",
    "N = int(input())      \n",
    "\n",
    "# 메인 데이터 선언\n",
    "Map = [[0 for i in range(N)] for i in range(N)]\n",
    "\n",
    "draw_star(N)\n",
    "\n",
    "for i in Map :\n",
    "    for j in i :\n",
    "        if j :\n",
    "            print('*', end = '')\n",
    "        else :\n",
    "            print(' ', end = '')\n",
    "    print()"
   ]
  },
  {
   "cell_type": "code",
   "execution_count": 119,
   "metadata": {},
   "outputs": [
    {
     "name": "stdin",
     "output_type": "stream",
     "text": [
      " 3\n"
     ]
    },
    {
     "name": "stdout",
     "output_type": "stream",
     "text": [
      "7\n",
      "1 3\n",
      "1 2\n",
      "3 2\n",
      "1 3\n",
      "2 1\n",
      "2 3\n",
      "1 3\n"
     ]
    }
   ],
   "source": [
    "# 11729\n",
    "N = int(input())\n",
    "move_list = prev_list = [[1, 3]]\n",
    "for i in range(1, N):\n",
    "    move_list = []\n",
    "    for j in prev_list:\n",
    "        movement = []\n",
    "        if j[0] == 1:\n",
    "            movement.append(1)\n",
    "        elif j[0] == 2:\n",
    "            movement.append(3)\n",
    "        elif j[0] == 3:\n",
    "            movement.append(2)\n",
    "        if j[1] == 1:\n",
    "            movement.append(1)\n",
    "        elif j[1] == 2:\n",
    "            movement.append(3)\n",
    "        elif j[1] == 3:\n",
    "            movement.append(2)\n",
    "        move_list.append(movement)\n",
    "    move_list.append([1,3])\n",
    "    for k in prev_list:\n",
    "        movement = []\n",
    "        if k[0] == 1:\n",
    "            movement.append(2)\n",
    "        elif k[0] == 2:\n",
    "            movement.append(1)\n",
    "        elif k[0] == 3:\n",
    "            movement.append(3)\n",
    "        if k[1] == 1:\n",
    "            movement.append(2)\n",
    "        elif k[1] == 2:\n",
    "            movement.append(1)\n",
    "        elif k[1] == 3:\n",
    "            movement.append(3)\n",
    "        move_list.append(movement)\n",
    "    prev_list = move_list\n",
    "print(len(move_list))\n",
    "for move in move_list:\n",
    "    print(*move)"
   ]
  },
  {
   "cell_type": "code",
   "execution_count": 123,
   "metadata": {},
   "outputs": [
    {
     "name": "stdin",
     "output_type": "stream",
     "text": [
      " 10 500\n",
      " 93 181 245 214 315 36 185 138 216 295\n"
     ]
    },
    {
     "name": "stdout",
     "output_type": "stream",
     "text": [
      "497\n"
     ]
    }
   ],
   "source": [
    "# 2798 블랙잭\n",
    "N, M = map(int, input().split())\n",
    "cardlist = list(map(int, input().split()))\n",
    "sumlist = []\n",
    "for i in range(N):\n",
    "    for j in range(i+1, N):\n",
    "        for k in range(j+1, N):\n",
    "            sumlist.append(cardlist[i]+cardlist[j]+cardlist[k])\n",
    "sumlist.sort()\n",
    "for h in sumlist:\n",
    "    if h > M:\n",
    "        break\n",
    "    x = h\n",
    "print(x)"
   ]
  },
  {
   "cell_type": "code",
   "execution_count": 129,
   "metadata": {},
   "outputs": [
    {
     "name": "stdin",
     "output_type": "stream",
     "text": [
      " 216\n"
     ]
    },
    {
     "name": "stdout",
     "output_type": "stream",
     "text": [
      "198\n"
     ]
    }
   ],
   "source": [
    "# 2231 분해합\n",
    "N = int(input())\n",
    "def gen(x):\n",
    "    x_list = list(str(x))\n",
    "    x_sum = x + sum([int(i) for i in x_list])\n",
    "    return x_sum\n",
    "j = 0\n",
    "for i in range(N):\n",
    "    if gen(i) == N:\n",
    "        j += 1\n",
    "        print(i)\n",
    "        break\n",
    "if j == 0:\n",
    "    print(0)"
   ]
  },
  {
   "cell_type": "code",
   "execution_count": 132,
   "metadata": {},
   "outputs": [
    {
     "name": "stdin",
     "output_type": "stream",
     "text": [
      " 5\n",
      " 55 185\n",
      " 58 183\n",
      " 88 186\n",
      " 60 175\n",
      " 46 155\n"
     ]
    },
    {
     "name": "stdout",
     "output_type": "stream",
     "text": [
      "2 2 1 2 5\n"
     ]
    }
   ],
   "source": [
    "# 7568 덩치\n",
    "N = int(input())\n",
    "size_list = []\n",
    "for i in range(N):\n",
    "    x, y = map(int, input().split())\n",
    "    size_list.append([x, y])\n",
    "rank_list = []\n",
    "for j in size_list:\n",
    "    rank = 1\n",
    "    for k in size_list:\n",
    "        if k[0] > j[0] and k[1] > j[1]:\n",
    "            rank += 1\n",
    "    rank_list.append(rank)\n",
    "print(*rank_list)"
   ]
  },
  {
   "cell_type": "code",
   "execution_count": 146,
   "metadata": {},
   "outputs": [
    {
     "name": "stdin",
     "output_type": "stream",
     "text": [
      " 10 13\n",
      " BBBBBBBBWBWBW\n",
      " BBBBBBBBBWBWB\n",
      " BBBBBBBBWBWBW\n",
      " BBBBBBBBBWBWB\n",
      " BBBBBBBBWBWBW\n",
      " BBBBBBBBBWBWB\n",
      " BBBBBBBBWBWBW\n",
      " BBBBBBBBBWBWB\n",
      " WWWWWWWWWWBWB\n",
      " WWWWWWWWWWBWB\n"
     ]
    },
    {
     "name": "stdout",
     "output_type": "stream",
     "text": [
      "12\n"
     ]
    }
   ],
   "source": [
    "# 1018 체스판 다시 칠하기\n",
    "N, M = map(int, input().split())\n",
    "chess_list = []\n",
    "str1 = 'WB'*4\n",
    "str2 = 'BW'*4\n",
    "example1 = [str1, str2, str1, str2, str1, str2, str1, str2]\n",
    "example2 = [str2, str1, str2, str1, str2, str1, str2, str1]\n",
    "odd_list = []\n",
    "for i in range(N):\n",
    "    chess_list.append(input())\n",
    "for j in range(len(chess_list[0])-7):\n",
    "    for h in range(len(chess_list)-7):\n",
    "        odd1, odd2 = 0, 0\n",
    "        for k in range(8):\n",
    "            for l in range(8):\n",
    "                if chess_list[h+k][j+l] != example1[k][l]:\n",
    "                    odd1 += 1\n",
    "                if chess_list[h+k][j+l] != example2[k][l]:\n",
    "                    odd2 += 1\n",
    "        odd_list.append(min(odd1, odd2))\n",
    "print(min(odd_list))"
   ]
  },
  {
   "cell_type": "code",
   "execution_count": 227,
   "metadata": {},
   "outputs": [
    {
     "name": "stdin",
     "output_type": "stream",
     "text": [
      " 10000\n"
     ]
    },
    {
     "name": "stdout",
     "output_type": "stream",
     "text": [
      "2666799\n"
     ]
    }
   ],
   "source": [
    "# 1436 영화감독 숌\n",
    "N = int(input())\n",
    "num_list = []\n",
    "for i in range(10000):\n",
    "    x = str(i).zfill(4)\n",
    "    for j in range(len(x)+1):\n",
    "        y = list(x)\n",
    "        y.insert(j, '666')\n",
    "        y = int(''.join(y))\n",
    "        num_list.append(y)\n",
    "num_list = list(set(num_list))\n",
    "num_list.sort()\n",
    "print(num_list[N-1])"
   ]
  },
  {
   "cell_type": "code",
   "execution_count": 224,
   "metadata": {},
   "outputs": [
    {
     "name": "stdin",
     "output_type": "stream",
     "text": [
      " 10000\n"
     ]
    },
    {
     "name": "stdout",
     "output_type": "stream",
     "text": [
      "2666799\n"
     ]
    }
   ],
   "source": [
    "# 1436 영화감독 숌 - 다른 답안 (https://pacific-ocean.tistory.com/137)\n",
    "n = int(input())\n",
    "cnt = 0\n",
    "six_n = 666\n",
    "while True:\n",
    "    if '666' in str(six_n):\n",
    "        cnt += 1\n",
    "    if cnt == n:\n",
    "        print(six_n)\n",
    "        break\n",
    "    six_n += 1"
   ]
  },
  {
   "cell_type": "code",
   "execution_count": 229,
   "metadata": {},
   "outputs": [
    {
     "name": "stdin",
     "output_type": "stream",
     "text": [
      " 5\n",
      " 5\n",
      " 2\n",
      " 3\n",
      " 4\n",
      " 1\n"
     ]
    },
    {
     "name": "stdout",
     "output_type": "stream",
     "text": [
      "1\n",
      "2\n",
      "3\n",
      "4\n",
      "5\n"
     ]
    }
   ],
   "source": [
    "# 2750 수 정렬하기 1\n",
    "N = int(input())\n",
    "numlist = []\n",
    "for i in range(N):\n",
    "    numlist.append(int(input()))\n",
    "numlist.sort()\n",
    "print(*numlist, sep='\\n')"
   ]
  },
  {
   "cell_type": "code",
   "execution_count": 231,
   "metadata": {},
   "outputs": [
    {
     "name": "stdin",
     "output_type": "stream",
     "text": [
      " 5\n",
      " 5\n",
      " 4\n",
      " 3\n",
      " 2\n",
      " 1\n"
     ]
    },
    {
     "name": "stdout",
     "output_type": "stream",
     "text": [
      "1\n",
      "2\n",
      "3\n",
      "4\n",
      "5\n"
     ]
    }
   ],
   "source": [
    "# 2751 수 정렬하기 2\n",
    "import sys\n",
    "N = int(input())\n",
    "numlist = []\n",
    "for i in range(N):\n",
    "    numlist.append(int(sys.stdin.readline()))\n",
    "numlist.sort()\n",
    "print(*numlist, sep='\\n')"
   ]
  },
  {
   "cell_type": "code",
   "execution_count": null,
   "metadata": {},
   "outputs": [],
   "source": [
    "# 10989 수 정렬하기 3\n",
    "import sys\n",
    "N = int(input())\n",
    "numlist = [0 for _ in range(10001)]\n",
    "for i in range(N):\n",
    "    n = int(sys.stdin.readline())\n",
    "    numlist[n] += 1\n",
    "for j in range(10001):\n",
    "    for k in range(numlist[j]):\n",
    "        print(j)"
   ]
  },
  {
   "cell_type": "code",
   "execution_count": null,
   "metadata": {},
   "outputs": [],
   "source": [
    "# 2108 통계학 - 시간 초과\n",
    "import sys\n",
    "\n",
    "N = int(input())\n",
    "numlist = []\n",
    "for i in range(N):\n",
    "    numlist.append(int(sys.stdin.readline()))\n",
    "numlist.sort()\n",
    "print(int(round(sum(numlist)/len(numlist), 0)))\n",
    "print(numlist[int(len(numlist)/2)])\n",
    "mode_list = []\n",
    "for j in numlist:\n",
    "    mode_list.append(numlist.count(j))\n",
    "mode_list = [numlist[k] for k in range(N) if mode_list[k] == max(mode_list)]\n",
    "mode_list = list(set(mode_list))\n",
    "mode_list.sort()\n",
    "if len(mode_list) > 1:\n",
    "    print(mode_list[1])\n",
    "else:\n",
    "    print(mode_list[0])\n",
    "print(max(numlist) - min(numlist))"
   ]
  },
  {
   "cell_type": "code",
   "execution_count": null,
   "metadata": {},
   "outputs": [],
   "source": [
    "# 2108 통계학 - 성공 (Counter 모듈 사용)\n",
    "import sys\n",
    "from collections import Counter\n",
    "\n",
    "N = int(input())\n",
    "numlist = []\n",
    "for i in range(N):\n",
    "    numlist.append(int(sys.stdin.readline()))\n",
    "numlist.sort()\n",
    "print(int(round(sum(numlist)/len(numlist), 0)))\n",
    "print(numlist[int(len(numlist)/2)])\n",
    "cnt = Counter(numlist)\n",
    "mode = cnt.most_common()\n",
    "mode = [j for j in mode if j[1] == mode[0][1]]\n",
    "mode.sort()\n",
    "if len(mode) > 1:\n",
    "    print(mode[1][0])\n",
    "else:\n",
    "    print(mode[0][0])\n",
    "print(max(numlist) - min(numlist))"
   ]
  },
  {
   "cell_type": "code",
   "execution_count": 247,
   "metadata": {},
   "outputs": [
    {
     "name": "stdin",
     "output_type": "stream",
     "text": [
      " 16876545334\n"
     ]
    },
    {
     "name": "stdout",
     "output_type": "stream",
     "text": [
      "87665544331\n"
     ]
    }
   ],
   "source": [
    "# 1427 소트인사이드\n",
    "N = list(input())\n",
    "N.sort(reverse = True)\n",
    "print(*N, sep='')"
   ]
  },
  {
   "cell_type": "code",
   "execution_count": 248,
   "metadata": {},
   "outputs": [
    {
     "name": "stdin",
     "output_type": "stream",
     "text": [
      " 5\n",
      " 3 4\n",
      " 1 1\n",
      " 1 -1\n",
      " 2 2\n",
      " 3 3\n"
     ]
    },
    {
     "name": "stdout",
     "output_type": "stream",
     "text": [
      "1 -1\n",
      "1 1\n",
      "2 2\n",
      "3 3\n",
      "3 4\n"
     ]
    }
   ],
   "source": [
    "# 11650 좌표 정렬하기\n",
    "import sys\n",
    "N = int(input())\n",
    "coor_list = []\n",
    "for i in range(N):\n",
    "    x, y = map(int, sys.stdin.readline().split())\n",
    "    coor_list.append((x, y))\n",
    "coor_list.sort()\n",
    "for i in coor_list:\n",
    "    print(i[0], i[1])"
   ]
  },
  {
   "cell_type": "code",
   "execution_count": 250,
   "metadata": {},
   "outputs": [
    {
     "name": "stdin",
     "output_type": "stream",
     "text": [
      " 5\n",
      " 0 4\n",
      " 1 2\n",
      " 1 -1\n",
      " 2 2\n",
      " 3 3\n"
     ]
    },
    {
     "name": "stdout",
     "output_type": "stream",
     "text": [
      "1 -1\n",
      "1 2\n",
      "2 2\n",
      "3 3\n",
      "0 4\n"
     ]
    }
   ],
   "source": [
    "# 11651 좌표 정렬하기 2\n",
    "import sys\n",
    "N = int(input())\n",
    "coor_list = []\n",
    "for i in range(N):\n",
    "    x, y = map(int, sys.stdin.readline().split())\n",
    "    coor_list.append((y, x))\n",
    "coor_list.sort()\n",
    "for i in coor_list:\n",
    "    print(i[1], i[0])"
   ]
  },
  {
   "cell_type": "code",
   "execution_count": 252,
   "metadata": {},
   "outputs": [
    {
     "name": "stdin",
     "output_type": "stream",
     "text": [
      " 13\n",
      " but\n",
      " i\n",
      " wont\n",
      " hesitate\n",
      " no\n",
      " more\n",
      " no\n",
      " more\n",
      " it\n",
      " cannot\n",
      " wait\n",
      " im\n",
      " yours\n"
     ]
    },
    {
     "name": "stdout",
     "output_type": "stream",
     "text": [
      "i\n",
      "im\n",
      "it\n",
      "no\n",
      "but\n",
      "more\n",
      "wait\n",
      "wont\n",
      "yours\n",
      "cannot\n",
      "hesitate\n"
     ]
    }
   ],
   "source": [
    "# 1181 단어 정렬\n",
    "N = int(input())\n",
    "word_list = []\n",
    "for i in range(N):\n",
    "    word_list.append(input())\n",
    "word_list = list(set(word_list))\n",
    "word_len_list = [(len(word), word) for word in word_list]\n",
    "word_len_list.sort()\n",
    "for j in word_len_list:\n",
    "    print(j[1])"
   ]
  },
  {
   "cell_type": "code",
   "execution_count": 254,
   "metadata": {},
   "outputs": [
    {
     "name": "stdin",
     "output_type": "stream",
     "text": [
      " 3\n",
      " 21 Junkyu\n",
      " 21 Dohyun\n",
      " 20 Sunyoung\n"
     ]
    },
    {
     "name": "stdout",
     "output_type": "stream",
     "text": [
      "20 Sunyoung\n",
      "21 Junkyu\n",
      "21 Dohyun\n"
     ]
    }
   ],
   "source": [
    "# 10814 나이순 정렬\n",
    "N = int(input())\n",
    "member_list = []\n",
    "count = 0\n",
    "for i in range(N):\n",
    "    age, name = input().split()\n",
    "    count += 1\n",
    "    member_list.append((int(age), count, name))\n",
    "member_list.sort()\n",
    "for j in member_list:\n",
    "    print(j[0], j[2])"
   ]
  },
  {
   "cell_type": "code",
   "execution_count": 257,
   "metadata": {},
   "outputs": [
    {
     "name": "stdin",
     "output_type": "stream",
     "text": [
      " 6\n",
      " 1000 999 1000 999 1000 999\n"
     ]
    },
    {
     "name": "stdout",
     "output_type": "stream",
     "text": [
      "1 0 1 0 1 0 "
     ]
    }
   ],
   "source": [
    "# 18870 좌표 압축\n",
    "import sys\n",
    "N = int(input())\n",
    "num_list = list(map(int, sys.stdin.readline().split()))\n",
    "sorted_num_list = list(set(num_list))\n",
    "sorted_num_list.sort()\n",
    "num_dic = {sorted_num_list[i] : i for i in range(len(sorted_num_list))}\n",
    "for num in num_list:\n",
    "    sys.stdout.write(str(num_dic[num]) + ' ')"
   ]
  }
 ],
 "metadata": {
  "kernelspec": {
   "display_name": "pydatavenv",
   "language": "python",
   "name": "pydatavenv"
  },
  "language_info": {
   "codemirror_mode": {
    "name": "ipython",
    "version": 3
   },
   "file_extension": ".py",
   "mimetype": "text/x-python",
   "name": "python",
   "nbconvert_exporter": "python",
   "pygments_lexer": "ipython3",
   "version": "3.8.8"
  }
 },
 "nbformat": 4,
 "nbformat_minor": 4
}
