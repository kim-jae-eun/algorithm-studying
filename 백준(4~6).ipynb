{
 "cells": [
  {
   "cell_type": "code",
   "execution_count": 11,
   "metadata": {},
   "outputs": [
    {
     "name": "stdin",
     "output_type": "stream",
     "text": [
      " 5 5\n"
     ]
    },
    {
     "name": "stdout",
     "output_type": "stream",
     "text": [
      "10\n"
     ]
    },
    {
     "name": "stdin",
     "output_type": "stream",
     "text": [
      " 2 0\n"
     ]
    },
    {
     "name": "stdout",
     "output_type": "stream",
     "text": [
      "2\n"
     ]
    },
    {
     "name": "stdin",
     "output_type": "stream",
     "text": [
      " 0 0\n"
     ]
    }
   ],
   "source": [
    "# 10952\n",
    "while True:\n",
    "    A, B = map(int, input().split())\n",
    "    if A==0 and B==0:\n",
    "        break\n",
    "    print(A+B)"
   ]
  },
  {
   "cell_type": "code",
   "execution_count": 12,
   "metadata": {},
   "outputs": [
    {
     "name": "stdin",
     "output_type": "stream",
     "text": [
      " 1 1\n"
     ]
    },
    {
     "name": "stdout",
     "output_type": "stream",
     "text": [
      "2\n"
     ]
    },
    {
     "name": "stdin",
     "output_type": "stream",
     "text": [
      " 2 3\n"
     ]
    },
    {
     "name": "stdout",
     "output_type": "stream",
     "text": [
      "5\n"
     ]
    },
    {
     "name": "stdin",
     "output_type": "stream",
     "text": [
      " 3 4\n"
     ]
    },
    {
     "name": "stdout",
     "output_type": "stream",
     "text": [
      "7\n"
     ]
    },
    {
     "name": "stdin",
     "output_type": "stream",
     "text": [
      " 9 8\n"
     ]
    },
    {
     "name": "stdout",
     "output_type": "stream",
     "text": [
      "17\n"
     ]
    },
    {
     "name": "stdin",
     "output_type": "stream",
     "text": [
      " 5 2\n"
     ]
    },
    {
     "name": "stdout",
     "output_type": "stream",
     "text": [
      "7\n"
     ]
    },
    {
     "name": "stdin",
     "output_type": "stream",
     "text": [
      " \n"
     ]
    }
   ],
   "source": [
    "# 10951\n",
    "while True:\n",
    "    try:\n",
    "        A, B = map(int, input().split())\n",
    "        print(A+B)\n",
    "    except:\n",
    "        break"
   ]
  },
  {
   "cell_type": "code",
   "execution_count": 37,
   "metadata": {},
   "outputs": [
    {
     "name": "stdin",
     "output_type": "stream",
     "text": [
      " 1\n"
     ]
    },
    {
     "name": "stdout",
     "output_type": "stream",
     "text": [
      "60\n"
     ]
    }
   ],
   "source": [
    "# 1110\n",
    "M = N = int(input())\n",
    "i = 1\n",
    "while True:\n",
    "    B = M%10\n",
    "    A = int((M-B)/10)\n",
    "    M = A+B\n",
    "    M = 10*B + (M%10)\n",
    "    if N == M:\n",
    "        print(i)\n",
    "        break\n",
    "    i+=1"
   ]
  },
  {
   "cell_type": "code",
   "execution_count": 53,
   "metadata": {},
   "outputs": [
    {
     "name": "stdin",
     "output_type": "stream",
     "text": [
      " 5\n",
      " 20 10 35 30 7\n"
     ]
    },
    {
     "name": "stdout",
     "output_type": "stream",
     "text": [
      "7 35\n",
      "7 35\n"
     ]
    }
   ],
   "source": [
    "# 10818\n",
    "num = int(input())\n",
    "nums = list(map(int, input().split()))\n",
    "print(min(nums), max(nums))\n",
    "\n",
    "# 내장함수 이용하지 않고\n",
    "maxnum = minnum = nums[0]\n",
    "for i in nums:\n",
    "    if i>=maxnum:\n",
    "        maxnum = i\n",
    "    if i<=j:\n",
    "        minnum = i\n",
    "print(minnum, maxnum)"
   ]
  },
  {
   "cell_type": "code",
   "execution_count": 57,
   "metadata": {},
   "outputs": [
    {
     "name": "stdin",
     "output_type": "stream",
     "text": [
      " 3\n",
      " 29\n",
      " 38\n",
      " 12\n",
      " 57\n",
      " 74\n",
      " 40\n",
      " 85\n",
      " 61\n"
     ]
    },
    {
     "name": "stdout",
     "output_type": "stream",
     "text": [
      "85\n",
      "8\n"
     ]
    }
   ],
   "source": [
    "# 2562\n",
    "i = 0\n",
    "nums = []\n",
    "while i < 9:\n",
    "    num = int(input())\n",
    "    nums.append(num)\n",
    "    i += 1\n",
    "print(max(nums))\n",
    "print(nums.index(max(nums))+1)"
   ]
  },
  {
   "cell_type": "code",
   "execution_count": 64,
   "metadata": {},
   "outputs": [
    {
     "name": "stdin",
     "output_type": "stream",
     "text": [
      " 150\n",
      " 266\n",
      " 427\n"
     ]
    },
    {
     "name": "stdout",
     "output_type": "stream",
     "text": [
      "3\n",
      "1\n",
      "0\n",
      "2\n",
      "0\n",
      "0\n",
      "0\n",
      "2\n",
      "0\n",
      "0\n"
     ]
    }
   ],
   "source": [
    "# 2577\n",
    "A, B, C = int(input()), int(input()), int(input())\n",
    "M = str(A*B*C)\n",
    "letters = list(M)\n",
    "for i in range(0, 10):\n",
    "    print(letters.count(str(i)))"
   ]
  },
  {
   "cell_type": "code",
   "execution_count": 70,
   "metadata": {},
   "outputs": [
    {
     "name": "stdin",
     "output_type": "stream",
     "text": [
      " 39\n",
      " 40\n",
      " 41\n",
      " 42\n",
      " 43\n",
      " 44\n",
      " 82\n",
      " 83\n",
      " 84\n",
      " 85\n"
     ]
    },
    {
     "name": "stdout",
     "output_type": "stream",
     "text": [
      "6\n"
     ]
    }
   ],
   "source": [
    "# 3052\n",
    "nums = set()\n",
    "for i in range(10):\n",
    "    num = int(input())\n",
    "    nums.add(num%42)\n",
    "print(len(nums))"
   ]
  },
  {
   "cell_type": "code",
   "execution_count": 75,
   "metadata": {},
   "outputs": [
    {
     "name": "stdin",
     "output_type": "stream",
     "text": [
      " 2\n",
      " 3 10\n"
     ]
    },
    {
     "name": "stdout",
     "output_type": "stream",
     "text": [
      "65.0\n"
     ]
    }
   ],
   "source": [
    "# 1546\n",
    "num = int(input())\n",
    "nums = list(map(int, input().split()))\n",
    "M = max(nums)\n",
    "for i in range(num):\n",
    "    nums[i] = nums[i]*100/M\n",
    "print(sum(nums)/num)"
   ]
  },
  {
   "cell_type": "code",
   "execution_count": 86,
   "metadata": {},
   "outputs": [
    {
     "name": "stdin",
     "output_type": "stream",
     "text": [
      " 5\n",
      " OOXXOXXOOO\n"
     ]
    },
    {
     "name": "stdout",
     "output_type": "stream",
     "text": [
      "10\n"
     ]
    },
    {
     "name": "stdin",
     "output_type": "stream",
     "text": [
      " OOXXOOXXOO\n"
     ]
    },
    {
     "name": "stdout",
     "output_type": "stream",
     "text": [
      "9\n"
     ]
    },
    {
     "name": "stdin",
     "output_type": "stream",
     "text": [
      " OXOXOXOXOXOXOX\n"
     ]
    },
    {
     "name": "stdout",
     "output_type": "stream",
     "text": [
      "7\n"
     ]
    },
    {
     "name": "stdin",
     "output_type": "stream",
     "text": [
      " OOOOOOOOOO\n"
     ]
    },
    {
     "name": "stdout",
     "output_type": "stream",
     "text": [
      "55\n"
     ]
    },
    {
     "name": "stdin",
     "output_type": "stream",
     "text": [
      " OOOOXOOOOXOOOOX\n"
     ]
    },
    {
     "name": "stdout",
     "output_type": "stream",
     "text": [
      "30\n"
     ]
    }
   ],
   "source": [
    "# 8958\n",
    "num = int(input())\n",
    "def allsum(x):\n",
    "    i, summ = 0, 0\n",
    "    while i<=x:\n",
    "        summ += i\n",
    "        i += 1\n",
    "    return(summ)\n",
    "for i in range(num):\n",
    "    O_X = list(input().split('X'))\n",
    "    score = 0\n",
    "    for i in O_X:\n",
    "        score += allsum(len(i))\n",
    "    print(score)"
   ]
  },
  {
   "cell_type": "code",
   "execution_count": null,
   "metadata": {},
   "outputs": [],
   "source": [
    "# 8958 다른 풀이 (블로그)\n",
    "n = int(input())\n",
    "for _ in range(n):\n",
    "    ox_list = list(input())\n",
    "    score = 0  \n",
    "    sum_score = 0  # 새로운 ox리스트를 입력 받으면 점수 합계를 리셋한다.\n",
    "    for ox in ox_list:\n",
    "        if ox == 'O':\n",
    "            score += 1  # 'O'가 연속되면 점수가 1점씩 커진다.\n",
    "            sum_score += score  # sum_score = sum_score + score\n",
    "        else:\n",
    "            score = 0\n",
    "    print(sum_score)"
   ]
  },
  {
   "cell_type": "code",
   "execution_count": 92,
   "metadata": {},
   "outputs": [
    {
     "name": "stdin",
     "output_type": "stream",
     "text": [
      " 5\n",
      " 5 50 50 70 80 100\n"
     ]
    },
    {
     "name": "stdout",
     "output_type": "stream",
     "text": [
      "40.000%\n"
     ]
    },
    {
     "name": "stdin",
     "output_type": "stream",
     "text": [
      " 7 100 95 90 80 70 60 50\n"
     ]
    },
    {
     "name": "stdout",
     "output_type": "stream",
     "text": [
      "57.143%\n"
     ]
    },
    {
     "name": "stdin",
     "output_type": "stream",
     "text": [
      " 3 70 90 80\n"
     ]
    },
    {
     "name": "stdout",
     "output_type": "stream",
     "text": [
      "33.333%\n"
     ]
    },
    {
     "name": "stdin",
     "output_type": "stream",
     "text": [
      " 3 70 90 81\n"
     ]
    },
    {
     "name": "stdout",
     "output_type": "stream",
     "text": [
      "66.667%\n"
     ]
    },
    {
     "name": "stdin",
     "output_type": "stream",
     "text": [
      " 9 100 99 98 97 96 95 94 93 91\n"
     ]
    },
    {
     "name": "stdout",
     "output_type": "stream",
     "text": [
      "55.556%\n"
     ]
    }
   ],
   "source": [
    "# 4344\n",
    "n = int(input())\n",
    "for i in range(n):\n",
    "    case = list(map(int, input().split()))\n",
    "    mean = sum(case[1:])/case[0]\n",
    "    prop = len([i for i in case[1:] if i>mean])/len(case[1:])\n",
    "    print(format(prop*100, \".3f\"), '%', sep='')"
   ]
  },
  {
   "cell_type": "code",
   "execution_count": 93,
   "metadata": {},
   "outputs": [
    {
     "data": {
      "text/plain": [
       "21"
      ]
     },
     "execution_count": 93,
     "metadata": {},
     "output_type": "execute_result"
    }
   ],
   "source": [
    "# 15596\n",
    "def solve(a):\n",
    "    sums = 0\n",
    "    for i in a:\n",
    "        sums += i\n",
    "    return(sums)\n",
    "\n",
    "# solve([1, 2, 3, 4, 5, 6])"
   ]
  },
  {
   "cell_type": "code",
   "execution_count": null,
   "metadata": {},
   "outputs": [],
   "source": [
    "# 4673\n",
    "def d(n):\n",
    "    sums = n\n",
    "    for i in list(str(n)):\n",
    "        sums += int(i)\n",
    "    return(sums)\n",
    "numset = set()\n",
    "for i in range(10000):\n",
    "    if d(i) < 10000:\n",
    "        numset.add(d(i))\n",
    "for i in range(10000):\n",
    "    if i not in numset:\n",
    "        print(i)"
   ]
  },
  {
   "cell_type": "code",
   "execution_count": 127,
   "metadata": {},
   "outputs": [
    {
     "name": "stdin",
     "output_type": "stream",
     "text": [
      " 1000\n"
     ]
    },
    {
     "name": "stdout",
     "output_type": "stream",
     "text": [
      "144\n"
     ]
    }
   ],
   "source": [
    "# 1065\n",
    "def hansu(X):\n",
    "    if X < 100:\n",
    "        return(True)\n",
    "    else:\n",
    "        numlist = [int(i) for i in list(str(X))]\n",
    "        distlist = [numlist[j+1]-numlist[j] for j in range(len(numlist)-1)]\n",
    "        if len(set(distlist))==1:\n",
    "            return(True)\n",
    "        else:\n",
    "            return(False)\n",
    "N = int(input())\n",
    "count = 0\n",
    "for i in range(1, N+1):\n",
    "    if hansu(i):\n",
    "        count += 1\n",
    "print(count)"
   ]
  }
 ],
 "metadata": {
  "kernelspec": {
   "display_name": "pydatavenv",
   "language": "python",
   "name": "pydatavenv"
  },
  "language_info": {
   "codemirror_mode": {
    "name": "ipython",
    "version": 3
   },
   "file_extension": ".py",
   "mimetype": "text/x-python",
   "name": "python",
   "nbconvert_exporter": "python",
   "pygments_lexer": "ipython3",
   "version": "3.8.8"
  }
 },
 "nbformat": 4,
 "nbformat_minor": 4
}
