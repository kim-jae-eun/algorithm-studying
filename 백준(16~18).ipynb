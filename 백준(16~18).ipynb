{
 "cells": [
  {
   "cell_type": "code",
   "execution_count": 1,
   "metadata": {},
   "outputs": [
    {
     "name": "stdin",
     "output_type": "stream",
     "text": [
      " 1\n",
      " 20\n"
     ]
    },
    {
     "name": "stdout",
     "output_type": "stream",
     "text": [
      "4181 6765\n"
     ]
    }
   ],
   "source": [
    "# 1003 피보나치 함수 - 시간 초과\n",
    "def fibonacci(n):\n",
    "    global count0, count1\n",
    "    if n == 0:\n",
    "        count0 += 1\n",
    "        return 0\n",
    "    elif n == 1:\n",
    "        count1 += 1\n",
    "        return 1\n",
    "    else:\n",
    "        return fibonacci(n-1) + fibonacci(n-2)\n",
    "T = int(input())\n",
    "for i in range(T):\n",
    "    count0, count1 = 0, 0\n",
    "    N = int(input())\n",
    "    fibonacci(N)\n",
    "    print(count0, count1)"
   ]
  },
  {
   "cell_type": "code",
   "execution_count": 2,
   "metadata": {},
   "outputs": [
    {
     "name": "stdin",
     "output_type": "stream",
     "text": [
      " 1\n",
      " 20\n"
     ]
    },
    {
     "name": "stdout",
     "output_type": "stream",
     "text": [
      "4181 6765\n"
     ]
    }
   ],
   "source": [
    "# 1003 피보나치 함수 - 성공\n",
    "fib = [0, 1]\n",
    "for i in range(2, 41):\n",
    "    fib.insert(i, fib[i-1] + fib[i-2])\n",
    "T = int(input())\n",
    "for i in range(T):\n",
    "    count0, count1 = 0, 0\n",
    "    N = int(input())\n",
    "    if N == 0:\n",
    "        print(1, 0)\n",
    "    elif N == 1:\n",
    "        print(0, 1)\n",
    "    else:\n",
    "        print(fib[N-1], fib[N])"
   ]
  },
  {
   "cell_type": "code",
   "execution_count": null,
   "metadata": {},
   "outputs": [],
   "source": [
    "# 9184 신나는 함수 실행\n",
    "\n",
    "while True:\n",
    "    "
   ]
  },
  {
   "cell_type": "code",
   "execution_count": 8,
   "metadata": {},
   "outputs": [
    {
     "name": "stdin",
     "output_type": "stream",
     "text": [
      " 100000\n"
     ]
    },
    {
     "name": "stdout",
     "output_type": "stream",
     "text": [
      "1979\n"
     ]
    }
   ],
   "source": [
    "# 1904 01타일\n",
    "fib = [1] * 1000001\n",
    "fib[1] = 1\n",
    "fib[2] = 2\n",
    "N = int(input())\n",
    "for i in range(3, N+1):\n",
    "    fib[i] = (fib[i-1] + fib[i-2])%15746\n",
    "print(fib[N])"
   ]
  },
  {
   "cell_type": "code",
   "execution_count": 11,
   "metadata": {},
   "outputs": [
    {
     "name": "stdin",
     "output_type": "stream",
     "text": [
      " 1\n",
      " 100\n"
     ]
    },
    {
     "name": "stdout",
     "output_type": "stream",
     "text": [
      "888855064897\n"
     ]
    }
   ],
   "source": [
    "# 9461 파도반 수열\n",
    "P = [0] * 101\n",
    "P[1] = 1\n",
    "P[2] = 1\n",
    "P[3] = 1\n",
    "T = int(input())\n",
    "for i in range(T):\n",
    "    N = int(input())\n",
    "    for j in range(4, N+1):\n",
    "        P[j] = P[j-2] + P[j-3]\n",
    "    print(P[N])"
   ]
  },
  {
   "cell_type": "code",
   "execution_count": null,
   "metadata": {},
   "outputs": [],
   "source": []
  }
 ],
 "metadata": {
  "kernelspec": {
   "display_name": "pydatavenv",
   "language": "python",
   "name": "pydatavenv"
  },
  "language_info": {
   "codemirror_mode": {
    "name": "ipython",
    "version": 3
   },
   "file_extension": ".py",
   "mimetype": "text/x-python",
   "name": "python",
   "nbconvert_exporter": "python",
   "pygments_lexer": "ipython3",
   "version": "3.8.8"
  }
 },
 "nbformat": 4,
 "nbformat_minor": 4
}
