{
 "cells": [
  {
   "cell_type": "code",
   "execution_count": 1,
   "metadata": {},
   "outputs": [
    {
     "name": "stdin",
     "output_type": "stream",
     "text": [
      " 4 4\n"
     ]
    },
    {
     "name": "stdout",
     "output_type": "stream",
     "text": [
      "1 2 3 4\n",
      "1 2 4 3\n",
      "1 3 2 4\n",
      "1 3 4 2\n",
      "1 4 2 3\n",
      "1 4 3 2\n",
      "2 1 3 4\n",
      "2 1 4 3\n",
      "2 3 1 4\n",
      "2 3 4 1\n",
      "2 4 1 3\n",
      "2 4 3 1\n",
      "3 1 2 4\n",
      "3 1 4 2\n",
      "3 2 1 4\n",
      "3 2 4 1\n",
      "3 4 1 2\n",
      "3 4 2 1\n",
      "4 1 2 3\n",
      "4 1 3 2\n",
      "4 2 1 3\n",
      "4 2 3 1\n",
      "4 3 1 2\n",
      "4 3 2 1\n"
     ]
    }
   ],
   "source": [
    "# 15649 N과 M (1)\n",
    "import itertools\n",
    "N, M = map(int, input().split())\n",
    "numlist = [i+1 for i in range(N)]\n",
    "permlist = list(itertools.permutations(numlist, M))\n",
    "for i in permlist:\n",
    "    print(*i)"
   ]
  },
  {
   "cell_type": "code",
   "execution_count": 2,
   "metadata": {},
   "outputs": [
    {
     "name": "stdin",
     "output_type": "stream",
     "text": [
      " 4 2\n"
     ]
    },
    {
     "name": "stdout",
     "output_type": "stream",
     "text": [
      "1 2\n",
      "1 3\n",
      "1 4\n",
      "2 3\n",
      "2 4\n",
      "3 4\n"
     ]
    }
   ],
   "source": [
    "# 15650 N과 M (2)\n",
    "import itertools\n",
    "N, M = map(int, input().split())\n",
    "numlist = [i+1 for i in range(N)]\n",
    "comblist = list(itertools.combinations(numlist, M))\n",
    "for i in comblist:\n",
    "    print(*i)"
   ]
  },
  {
   "cell_type": "code",
   "execution_count": 3,
   "metadata": {},
   "outputs": [
    {
     "name": "stdin",
     "output_type": "stream",
     "text": [
      " 3 3\n"
     ]
    },
    {
     "name": "stdout",
     "output_type": "stream",
     "text": [
      "1 1 1\n",
      "1 1 2\n",
      "1 1 3\n",
      "1 2 1\n",
      "1 2 2\n",
      "1 2 3\n",
      "1 3 1\n",
      "1 3 2\n",
      "1 3 3\n",
      "2 1 1\n",
      "2 1 2\n",
      "2 1 3\n",
      "2 2 1\n",
      "2 2 2\n",
      "2 2 3\n",
      "2 3 1\n",
      "2 3 2\n",
      "2 3 3\n",
      "3 1 1\n",
      "3 1 2\n",
      "3 1 3\n",
      "3 2 1\n",
      "3 2 2\n",
      "3 2 3\n",
      "3 3 1\n",
      "3 3 2\n",
      "3 3 3\n"
     ]
    }
   ],
   "source": [
    "# 15651 N과 M (3)\n",
    "import itertools\n",
    "N, M = map(int, input().split())\n",
    "numlist = [i+1 for i in range(N)]\n",
    "prodlist = list(itertools.product(numlist, repeat = M))\n",
    "for i in prodlist:\n",
    "    print(*i)"
   ]
  },
  {
   "cell_type": "code",
   "execution_count": 4,
   "metadata": {},
   "outputs": [
    {
     "name": "stdin",
     "output_type": "stream",
     "text": [
      " 3 3\n"
     ]
    },
    {
     "name": "stdout",
     "output_type": "stream",
     "text": [
      "1 1 1\n",
      "1 1 2\n",
      "1 1 3\n",
      "1 2 2\n",
      "1 2 3\n",
      "1 3 3\n",
      "2 2 2\n",
      "2 2 3\n",
      "2 3 3\n",
      "3 3 3\n"
     ]
    }
   ],
   "source": [
    "# 15652 N과 M (4)\n",
    "import itertools\n",
    "N, M = map(int, input().split())\n",
    "numlist = [i+1 for i in range(N)]\n",
    "cwrlist = list(itertools.combinations_with_replacement(numlist, M))\n",
    "for i in cwrlist:\n",
    "    print(*i)"
   ]
  },
  {
   "cell_type": "code",
   "execution_count": 5,
   "metadata": {},
   "outputs": [
    {
     "name": "stdin",
     "output_type": "stream",
     "text": [
      " 3 3\n"
     ]
    },
    {
     "name": "stdout",
     "output_type": "stream",
     "text": [
      "1 1 1\n",
      "1 1 2\n",
      "1 1 3\n",
      "1 2 2\n",
      "1 2 3\n",
      "1 3 3\n",
      "2 2 2\n",
      "2 2 3\n",
      "2 3 3\n",
      "3 3 3\n"
     ]
    }
   ],
   "source": [
    "# 15652 N과 M (4) - 다른 답안 (https://paris-in-the-rain.tistory.com/74)\n",
    "n, m = map(int, input().split())\n",
    "result = []\n",
    "def dfs(idx, count):\n",
    "    if count == m:\n",
    "        print(*result)\n",
    "        return\n",
    "    for i in range(idx, n):\n",
    "        result.append(i+1)\n",
    "        dfs(i, count+1)\n",
    "        result.pop()\n",
    "dfs(0, 0)"
   ]
  },
  {
   "cell_type": "code",
   "execution_count": 6,
   "metadata": {},
   "outputs": [
    {
     "name": "stdin",
     "output_type": "stream",
     "text": [
      " 8\n"
     ]
    },
    {
     "name": "stdout",
     "output_type": "stream",
     "text": [
      "92\n"
     ]
    }
   ],
   "source": [
    "# 9663 N-Queen - 시간 초과라고 떠서 구글 검색해보니.. 다들 pypy3으로 제출해서 나도 pypy3으로 제출함\n",
    "N = int(input())\n",
    "coor_list = []\n",
    "num = 0\n",
    "def sol(count):\n",
    "    global num\n",
    "    if count == N:\n",
    "        num += 1\n",
    "    for i in [i for i in range(N) if i not in coor_list]:\n",
    "        error = 0\n",
    "        for k in coor_list:\n",
    "            if abs(count - coor_list.index(k)) == abs(i - k):\n",
    "                error += 1\n",
    "                break\n",
    "        if error == 0:\n",
    "            coor_list.append(i)\n",
    "            sol(count+1)\n",
    "            coor_list.pop()\n",
    "sol(0)\n",
    "print(num)"
   ]
  },
  {
   "cell_type": "code",
   "execution_count": null,
   "metadata": {},
   "outputs": [],
   "source": [
    "# 2580 스도쿠 - 하다가 포기... 모르겠음\n",
    "num_list = []\n",
    "for _ in range(9):\n",
    "    num_list.append(list(int, input().split())):\n",
    "0_count = 0\n",
    "for l in num_list:\n",
    "    0_count += l.count(0)\n",
    "def sol(count):\n",
    "    if count == 0_count:\n",
    "    for l in num_list:\n",
    "        for j in len(l):\n",
    "            if l[j] == 0:\n",
    "                for k in [i+1 for i in range(9) if i not in l]:\n",
    "                    if "
   ]
  },
  {
   "cell_type": "code",
   "execution_count": null,
   "metadata": {},
   "outputs": [],
   "source": [
    "# 2580 스도쿠\n",
    "sudoku = [list(map(int, input().split())) for _ in range(9)]\n",
    "zero_loc = [(i, j) for i in range(9) for j in range(9) if sudoku[i][j] == 0]\n",
    "nums = [i+1 for i in range(9)]\n"
   ]
  }
 ],
 "metadata": {
  "kernelspec": {
   "display_name": "pydatavenv",
   "language": "python",
   "name": "pydatavenv"
  },
  "language_info": {
   "codemirror_mode": {
    "name": "ipython",
    "version": 3
   },
   "file_extension": ".py",
   "mimetype": "text/x-python",
   "name": "python",
   "nbconvert_exporter": "python",
   "pygments_lexer": "ipython3",
   "version": "3.8.8"
  }
 },
 "nbformat": 4,
 "nbformat_minor": 4
}
