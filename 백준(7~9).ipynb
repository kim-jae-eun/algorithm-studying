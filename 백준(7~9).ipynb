{
 "cells": [
  {
   "cell_type": "code",
   "execution_count": 1,
   "metadata": {},
   "outputs": [
    {
     "name": "stdin",
     "output_type": "stream",
     "text": [
      " z\n"
     ]
    },
    {
     "name": "stdout",
     "output_type": "stream",
     "text": [
      "122\n"
     ]
    }
   ],
   "source": [
    "# 11654\n",
    "print(ord(input()))"
   ]
  },
  {
   "cell_type": "code",
   "execution_count": 3,
   "metadata": {},
   "outputs": [
    {
     "name": "stdin",
     "output_type": "stream",
     "text": [
      " 11\n",
      " 10987654321\n"
     ]
    },
    {
     "name": "stdout",
     "output_type": "stream",
     "text": [
      "46\n"
     ]
    }
   ],
   "source": [
    "# 11720\n",
    "N = int(input())\n",
    "nums = list(input())\n",
    "print(sum([int(i) for i in nums]))"
   ]
  },
  {
   "cell_type": "code",
   "execution_count": 4,
   "metadata": {},
   "outputs": [
    {
     "name": "stdin",
     "output_type": "stream",
     "text": [
      " baekjoon\n"
     ]
    },
    {
     "name": "stdout",
     "output_type": "stream",
     "text": [
      "1 0 -1 -1 2 -1 -1 -1 -1 4 3 -1 -1 7 5 -1 -1 -1 -1 -1 -1 -1 -1 -1 -1 -1 "
     ]
    }
   ],
   "source": [
    "# 10809\n",
    "S = input()\n",
    "for i in range(26):\n",
    "    if chr(i+97) in S:\n",
    "        print(S.index(chr(i+97)), end = ' ')\n",
    "    else:\n",
    "        print(-1, end = ' ')"
   ]
  },
  {
   "cell_type": "code",
   "execution_count": 6,
   "metadata": {},
   "outputs": [
    {
     "name": "stdin",
     "output_type": "stream",
     "text": [
      " 2\n",
      " 3 ABC\n"
     ]
    },
    {
     "name": "stdout",
     "output_type": "stream",
     "text": [
      "AAABBBCCC\n"
     ]
    },
    {
     "name": "stdin",
     "output_type": "stream",
     "text": [
      " 5 /HTP\n"
     ]
    },
    {
     "name": "stdout",
     "output_type": "stream",
     "text": [
      "/////HHHHHTTTTTPPPPP\n"
     ]
    }
   ],
   "source": [
    "# 2675\n",
    "T = int(input())\n",
    "for i in range(T):\n",
    "    R, S = input().split()\n",
    "    P = str()\n",
    "    for j in list(S):\n",
    "        P += j*int(R)\n",
    "    print(P)"
   ]
  },
  {
   "cell_type": "code",
   "execution_count": 35,
   "metadata": {},
   "outputs": [
    {
     "name": "stdin",
     "output_type": "stream",
     "text": [
      " baaa\n"
     ]
    },
    {
     "name": "stdout",
     "output_type": "stream",
     "text": [
      "A\n"
     ]
    }
   ],
   "source": [
    "# 1157\n",
    "word = input()\n",
    "word = word.upper()\n",
    "count_letters = {}\n",
    "for i in set(word):\n",
    "    count_letters[i] = list(word).count(i)\n",
    "max_letters = [j for j in count_letters.keys() if count_letters[j] == max(count_letters.values())]\n",
    "if len(max_letters)==1:\n",
    "    print(*max_letters)\n",
    "else:\n",
    "    print('?')"
   ]
  },
  {
   "cell_type": "code",
   "execution_count": 40,
   "metadata": {},
   "outputs": [
    {
     "name": "stdin",
     "output_type": "stream",
     "text": [
      " Teullinika Teullyeotzi \n"
     ]
    },
    {
     "name": "stdout",
     "output_type": "stream",
     "text": [
      "2\n"
     ]
    }
   ],
   "source": [
    "# 1152\n",
    "string = input().strip()\n",
    "words = string.split()\n",
    "print(len(words))"
   ]
  },
  {
   "cell_type": "code",
   "execution_count": 44,
   "metadata": {},
   "outputs": [
    {
     "name": "stdin",
     "output_type": "stream",
     "text": [
      " 839 237\n"
     ]
    },
    {
     "name": "stdout",
     "output_type": "stream",
     "text": [
      "938\n"
     ]
    }
   ],
   "source": [
    "# 2908\n",
    "A, B = input().split()\n",
    "A = A[::-1]\n",
    "B = B[::-1]\n",
    "print(max(int(A), int(B)))"
   ]
  },
  {
   "cell_type": "code",
   "execution_count": 53,
   "metadata": {},
   "outputs": [
    {
     "name": "stdin",
     "output_type": "stream",
     "text": [
      " UNUCIC\n"
     ]
    },
    {
     "name": "stdout",
     "output_type": "stream",
     "text": [
      "36\n"
     ]
    }
   ],
   "source": [
    "# 5622\n",
    "num_dic = {}\n",
    "for i in range(26):\n",
    "    if i<3:\n",
    "        num_dic[chr(i+65)] = 2\n",
    "    elif i<6:\n",
    "        num_dic[chr(i+65)] = 3\n",
    "    elif i<9:\n",
    "        num_dic[chr(i+65)] = 4\n",
    "    elif i<12:\n",
    "        num_dic[chr(i+65)] = 5\n",
    "    elif i<15:\n",
    "        num_dic[chr(i+65)] = 6\n",
    "    elif i<19:\n",
    "        num_dic[chr(i+65)] = 7\n",
    "    elif i<22:\n",
    "        num_dic[chr(i+65)] = 8\n",
    "    else:\n",
    "        num_dic[chr(i+65)] = 9\n",
    "string = input()\n",
    "seconds = 0\n",
    "for j in list(string):\n",
    "    seconds += num_dic[j]+1\n",
    "print(seconds)"
   ]
  },
  {
   "cell_type": "code",
   "execution_count": 67,
   "metadata": {},
   "outputs": [
    {
     "name": "stdin",
     "output_type": "stream",
     "text": [
      " dz=ak\n"
     ]
    },
    {
     "name": "stdout",
     "output_type": "stream",
     "text": [
      "3\n"
     ]
    }
   ],
   "source": [
    "# 2941\n",
    "string = input()\n",
    "count = 0\n",
    "if 'c=' in string:\n",
    "    count+=string.count('c=')\n",
    "    string=string.replace('c=', '/')\n",
    "if 'c-' in string:\n",
    "    count+=string.count('c-')\n",
    "    string=string.replace('c-', '/')\n",
    "if 'dz=' in string:\n",
    "    count+=string.count('dz=')\n",
    "    string=string.replace('dz=', '/')\n",
    "if 'd-' in string:\n",
    "    count+=string.count('d-')\n",
    "    string=string.replace('d-', '/')\n",
    "if 'lj' in string:\n",
    "    count+=string.count('lj')\n",
    "    string=string.replace('lj', '/')\n",
    "if 'nj' in string:\n",
    "    count+=string.count('nj')\n",
    "    string=string.replace('nj', '/')\n",
    "if 's=' in string:\n",
    "    count+=string.count('s=')\n",
    "    string=string.replace('s=', '/')\n",
    "if 'z=' in string:\n",
    "    count+=string.count('z=')\n",
    "    string=string.replace('z=', '/')\n",
    "count += len(list(string.replace('/', '')))\n",
    "print(count)"
   ]
  },
  {
   "cell_type": "code",
   "execution_count": 98,
   "metadata": {},
   "outputs": [
    {
     "name": "stdin",
     "output_type": "stream",
     "text": [
      " 4\n",
      " aba\n",
      " abab\n",
      " abcabc\n",
      " a\n"
     ]
    },
    {
     "name": "stdout",
     "output_type": "stream",
     "text": [
      "1\n"
     ]
    }
   ],
   "source": [
    "# 1316\n",
    "N = int(input())\n",
    "count = 0\n",
    "for i in range(N):\n",
    "    count_ = 0\n",
    "    word = input()\n",
    "    for j in range(26):\n",
    "        index_list = [k for k in range(len(word)) if word[k]==chr(j+97)]\n",
    "        if len(index_list) == 1 or len(index_list) == 0:\n",
    "            pass\n",
    "        else:\n",
    "            dist_list = {index_list[h+1]-index_list[h] for h in range(len(index_list)-1)}\n",
    "            if dist_list != {1}:\n",
    "                count_ += 1\n",
    "    if count_ == 0:\n",
    "        count += 1\n",
    "print(count)"
   ]
  },
  {
   "cell_type": "code",
   "execution_count": 107,
   "metadata": {},
   "outputs": [
    {
     "name": "stdin",
     "output_type": "stream",
     "text": [
      " 1000 70 170\n"
     ]
    },
    {
     "name": "stdout",
     "output_type": "stream",
     "text": [
      "11\n"
     ]
    }
   ],
   "source": [
    "# 1712\n",
    "import math\n",
    "A, B, C = map(int, input().split())\n",
    "if C > B:\n",
    "    if A/(C-B) == int(A/(C-B)):\n",
    "        N = int(A/(C-B)+1)\n",
    "    else:\n",
    "        N = math.ceil(A/(C-B))\n",
    "    print(N)\n",
    "else:\n",
    "    print(-1)"
   ]
  },
  {
   "cell_type": "code",
   "execution_count": 142,
   "metadata": {},
   "outputs": [
    {
     "name": "stdin",
     "output_type": "stream",
     "text": [
      " 62\n"
     ]
    },
    {
     "name": "stdout",
     "output_type": "stream",
     "text": [
      "6\n"
     ]
    }
   ],
   "source": [
    "# 2292\n",
    "N = int(input())\n",
    "S, i = N-1, 1\n",
    "while S > 0:\n",
    "    S -= 6*i\n",
    "    i += 1\n",
    "print(i)"
   ]
  },
  {
   "cell_type": "code",
   "execution_count": 176,
   "metadata": {},
   "outputs": [
    {
     "name": "stdin",
     "output_type": "stream",
     "text": [
      " 14\n"
     ]
    },
    {
     "name": "stdout",
     "output_type": "stream",
     "text": [
      "2/4\n"
     ]
    }
   ],
   "source": [
    "# 1193\n",
    "X = int(input())\n",
    "N, M = 0, 0\n",
    "while M < X:\n",
    "    N += 1\n",
    "    M += N\n",
    "if N % 2 == 0:\n",
    "    print(X - (M - N), '/', N - (X - (M - N)) + 1, sep='')\n",
    "else:\n",
    "    print(N - (X - (M - N)) + 1, '/', X - (M - N), sep='')"
   ]
  },
  {
   "cell_type": "code",
   "execution_count": null,
   "metadata": {},
   "outputs": [],
   "source": [
    "# 1193 - 다른 답안 (블로그 참고 - https://deokkk9.tistory.com/11)\n",
    "X=int(input())\n",
    "\n",
    "line=1\n",
    "while X>line:\n",
    "    X-=line\n",
    "    line+=1\n",
    "    \n",
    "if line%2==0:\n",
    "    a=X\n",
    "    b=line-X+1\n",
    "else:\n",
    "    a=line-X+1\n",
    "    b=X\n",
    "    \n",
    "print(a, '/', b, sep='')"
   ]
  },
  {
   "cell_type": "code",
   "execution_count": 187,
   "metadata": {},
   "outputs": [
    {
     "name": "stdin",
     "output_type": "stream",
     "text": [
      " 100 99 1000000000\n"
     ]
    },
    {
     "name": "stdout",
     "output_type": "stream",
     "text": [
      "999999901\n"
     ]
    }
   ],
   "source": [
    "# 2869 ( (A-B)*X + A >= V 인 X 구하기 )\n",
    "import math\n",
    "A, B, V = map(int, input().split())\n",
    "X = math.ceil((V-A)/(A-B) + 1)\n",
    "print(X)"
   ]
  },
  {
   "cell_type": "code",
   "execution_count": 194,
   "metadata": {},
   "outputs": [
    {
     "name": "stdin",
     "output_type": "stream",
     "text": [
      " 2\n",
      " 6 12 10\n"
     ]
    },
    {
     "name": "stdout",
     "output_type": "stream",
     "text": [
      "402\n"
     ]
    },
    {
     "name": "stdin",
     "output_type": "stream",
     "text": [
      " 30 50 72\n"
     ]
    },
    {
     "name": "stdout",
     "output_type": "stream",
     "text": [
      "1203\n"
     ]
    }
   ],
   "source": [
    "# 10250\n",
    "import math\n",
    "T = int(input())\n",
    "for i in range(T):\n",
    "    H, W, N = map(int, input().split())\n",
    "    X = math.ceil(N/H)\n",
    "    Y = N - (X-1)*H\n",
    "    if X == 0:\n",
    "        X = H\n",
    "    print(Y, '%02d'%X, sep='')"
   ]
  },
  {
   "cell_type": "code",
   "execution_count": 201,
   "metadata": {},
   "outputs": [
    {
     "name": "stdin",
     "output_type": "stream",
     "text": [
      " 1\n",
      " 2\n",
      " 5\n"
     ]
    },
    {
     "name": "stdout",
     "output_type": "stream",
     "text": [
      "35\n"
     ]
    }
   ],
   "source": [
    "# 2775 (파스칼의 삼각형 규칙이 있길래 적용... 다른 방법 생각 안나 너무 어려웠음)\n",
    "def factorial(x):\n",
    "    n = 1\n",
    "    for i in range(x):\n",
    "        n *= (i+1)\n",
    "    return n\n",
    "T = int(input())\n",
    "for i in range(T):\n",
    "    k, n = int(input()), int(input())\n",
    "    resi = int(factorial(k+n)/(factorial(k+1)*factorial(n-1)))\n",
    "    print(resi)"
   ]
  },
  {
   "cell_type": "code",
   "execution_count": 202,
   "metadata": {},
   "outputs": [
    {
     "name": "stdin",
     "output_type": "stream",
     "text": [
      " 2\n",
      " 1\n",
      " 3\n"
     ]
    },
    {
     "name": "stdout",
     "output_type": "stream",
     "text": [
      "6\n"
     ]
    },
    {
     "name": "stdin",
     "output_type": "stream",
     "text": [
      " 2\n",
      " 3\n"
     ]
    },
    {
     "name": "stdout",
     "output_type": "stream",
     "text": [
      "10\n"
     ]
    }
   ],
   "source": [
    "# 2775 - 다른 답안 (https://ooyoung.tistory.com/89)\n",
    "t = int(input())\n",
    "\n",
    "for _ in range(t):  \n",
    "    floor = int(input())  # 층\n",
    "    num = int(input())  # 호\n",
    "    f0 = [x for x in range(1, num+1)]  # 0층 리스트\n",
    "    for k in range(floor):  # 층 수 만큼 반복\n",
    "        for i in range(1, num):  # 1 ~ n-1까지 (인덱스로 사용)\n",
    "            f0[i] += f0[i-1]  # 층별 각 호실의 사람 수를 변경\n",
    "    print(f0[-1])  # 가장 마지막 수 출력"
   ]
  },
  {
   "cell_type": "code",
   "execution_count": 214,
   "metadata": {},
   "outputs": [
    {
     "name": "stdin",
     "output_type": "stream",
     "text": [
      " 11\n"
     ]
    },
    {
     "name": "stdout",
     "output_type": "stream",
     "text": [
      "3\n"
     ]
    }
   ],
   "source": [
    "# 2839\n",
    "N = int(input())\n",
    "n = 0\n",
    "while N % 5 != 0:\n",
    "    n += 1\n",
    "    N -= 3\n",
    "if N < 0:\n",
    "    print(-1)\n",
    "else:\n",
    "    print(int(N/5 + n))"
   ]
  },
  {
   "cell_type": "code",
   "execution_count": 215,
   "metadata": {},
   "outputs": [
    {
     "name": "stdin",
     "output_type": "stream",
     "text": [
      " 9223372036854775807 9223372036854775808\n"
     ]
    },
    {
     "name": "stdout",
     "output_type": "stream",
     "text": [
      "18446744073709551615\n"
     ]
    }
   ],
   "source": [
    "# 10757\n",
    "A, B = map(int, input().split())\n",
    "print(A+B)"
   ]
  },
  {
   "cell_type": "code",
   "execution_count": 226,
   "metadata": {},
   "outputs": [
    {
     "name": "stdin",
     "output_type": "stream",
     "text": [
      " 3\n",
      " 10 19\n"
     ]
    },
    {
     "name": "stdout",
     "output_type": "stream",
     "text": [
      "5\n"
     ]
    },
    {
     "name": "stdin",
     "output_type": "stream",
     "text": [
      " 1 18\n"
     ]
    },
    {
     "name": "stdout",
     "output_type": "stream",
     "text": [
      "8\n"
     ]
    },
    {
     "name": "stdin",
     "output_type": "stream",
     "text": [
      " 5 11\n"
     ]
    },
    {
     "name": "stdout",
     "output_type": "stream",
     "text": [
      "4\n"
     ]
    }
   ],
   "source": [
    "# 1011\n",
    "import math\n",
    "T = int(input())\n",
    "for i in range(T):\n",
    "    x, y = map(int, input().split())\n",
    "    dist = y - x\n",
    "    n = int(math.sqrt(dist))\n",
    "    print((2*n - 1) + (math.ceil((dist - n*n)/n)))"
   ]
  },
  {
   "cell_type": "code",
   "execution_count": null,
   "metadata": {},
   "outputs": [],
   "source": [
    "# 1011 - 다른 답안 (https://ooyoung.tistory.com/91)\n",
    "t = int(input())\n",
    "\n",
    "for _ in range(t):\n",
    "    x, y = map(int,input().split())\n",
    "    distance = y - x\n",
    "    count = 0  # 이동 횟수\n",
    "    move = 1  # count별 이동 가능한 거리\n",
    "    move_plus = 0  # 이동한 거리의 합\n",
    "    while move_plus < distance :\n",
    "        count += 1\n",
    "        move_plus += move  # count 수에 해당하는 move를 더함\n",
    "        if count % 2 == 0 :  # count가 2의 배수일 때, \n",
    "            move += 1  \n",
    "    print(count)"
   ]
  }
 ],
 "metadata": {
  "kernelspec": {
   "display_name": "pydatavenv",
   "language": "python",
   "name": "pydatavenv"
  },
  "language_info": {
   "codemirror_mode": {
    "name": "ipython",
    "version": 3
   },
   "file_extension": ".py",
   "mimetype": "text/x-python",
   "name": "python",
   "nbconvert_exporter": "python",
   "pygments_lexer": "ipython3",
   "version": "3.8.8"
  }
 },
 "nbformat": 4,
 "nbformat_minor": 4
}
